{
 "cells": [
  {
   "cell_type": "markdown",
   "metadata": {},
   "source": [
    "# Logistic Regression\n",
    "\n",
    "<br />\n",
    "<br />\n",
    "<br />\n",
    "\n",
    "### Table of Contents\n",
    "\n",
    "* Introduction\n",
    "* Loading Dataset\n",
    "* Logistic Regression Model\n",
    "* Using a Scaled Model\n",
    "* Quantitative Assessment with Cross-Validation\n",
    "* Adding Volume and Interaction Terms\n",
    "\n",
    "<br />\n",
    "<br />\n",
    "<br />"
   ]
  },
  {
   "cell_type": "markdown",
   "metadata": {},
   "source": [
    "## Introduction\n",
    "\n",
    "In this notebook, we illustrate the use of Logistic Regression to categorize the abalone shell data set by number of rings. The notebook starts by importing the data as a scikit Bunch object. It then builds a cross-validated Logistic Regression model using a 70/30 split of training and test data, and plots the confusion matrix. \n",
    "\n",
    "The results turn out to be pretty dismal. However, we can improve the model quite a bit by utilizing results from prior notebooks. There, we saw that adding a volume variable and normalizing the input variables were all helpful."
   ]
  },
  {
   "cell_type": "code",
   "execution_count": 5,
   "metadata": {
    "collapsed": false
   },
   "outputs": [],
   "source": [
    "%matplotlib inline\n",
    "\n",
    "import pandas as pd\n",
    "import numpy as np\n",
    "import seaborn as sns\n",
    "import matplotlib.pyplot as plt\n",
    "import statsmodels.api as sm\n",
    "import scipy.stats as stats\n",
    "\n",
    "from sklearn import metrics, cross_validation, preprocessing\n",
    "from sklearn.linear_model import LogisticRegression\n",
    "from sklearn.datasets.base import Bunch\n",
    "\n",
    "import pickle"
   ]
  },
  {
   "cell_type": "markdown",
   "metadata": {},
   "source": [
    "## Loading Dataset\n",
    "\n",
    "The function to load the data reads the data from a CSV file, but populates it using a scikit `Bunch` object, which is basically a DataFrame with the inputs and outputs separated."
   ]
  },
  {
   "cell_type": "code",
   "execution_count": 6,
   "metadata": {
    "collapsed": false
   },
   "outputs": [],
   "source": [
    "def load_data():\n",
    "    \n",
    "    # Load the data from this file\n",
    "    data_file = 'abalone/Dataset.data'\n",
    "    \n",
    "    # x data labels\n",
    "    xnlabs = ['Sex']\n",
    "    xqlabs = ['Length','Diameter','Height','Whole weight','Shucked weight','Viscera weight','Shell weight']\n",
    "    xlabs = xnlabs + xqlabs\n",
    "\n",
    "    # y data labels\n",
    "    ylabs = ['Rings']\n",
    "\n",
    "    # Load data to dataframe\n",
    "    df = pd.read_csv(data_file, header=None, sep=' ', names=xlabs+ylabs)\n",
    "    \n",
    "    # Filter zero values of height/length/diameter\n",
    "    df = df[df['Height']>0.0]\n",
    "    df = df[df['Length']>0.0]\n",
    "    df = df[df['Diameter']>0.0]\n",
    "    \n",
    "    dummies = pd.get_dummies(df[xnlabs], prefix='Sex')\n",
    "    \n",
    "    dfdummies = df[xqlabs+ylabs].join(dummies)\n",
    "    \n",
    "    xqlabs = xqlabs + dummies.columns.tolist()\n",
    "    \n",
    "    return Bunch(data   = dfdummies[xqlabs],\n",
    "                 target = df[ylabs],\n",
    "                 feature_names = xqlabs,\n",
    "                 target_names  = ylabs)\n"
   ]
  },
  {
   "cell_type": "code",
   "execution_count": 7,
   "metadata": {
    "collapsed": false
   },
   "outputs": [],
   "source": [
    "# Load the dataset\n",
    "dataset = load_data()\n",
    "X = dataset.data\n",
    "y = dataset.target"
   ]
  },
  {
   "cell_type": "code",
   "execution_count": 8,
   "metadata": {
    "collapsed": false
   },
   "outputs": [
    {
     "name": "stdout",
     "output_type": "stream",
     "text": [
      "   Length  Diameter  Height  Whole weight  Shucked weight  Viscera weight  \\\n",
      "0   0.455     0.365   0.095        0.5140          0.2245          0.1010   \n",
      "1   0.350     0.265   0.090        0.2255          0.0995          0.0485   \n",
      "2   0.530     0.420   0.135        0.6770          0.2565          0.1415   \n",
      "3   0.440     0.365   0.125        0.5160          0.2155          0.1140   \n",
      "4   0.330     0.255   0.080        0.2050          0.0895          0.0395   \n",
      "\n",
      "   Shell weight  Sex_F  Sex_I  Sex_M  \n",
      "0         0.150    0.0    0.0    1.0  \n",
      "1         0.070    0.0    0.0    1.0  \n",
      "2         0.210    1.0    0.0    0.0  \n",
      "3         0.155    0.0    0.0    1.0  \n",
      "4         0.055    0.0    1.0    0.0  \n",
      "--------------------\n",
      "   Rings\n",
      "0     15\n",
      "1      7\n",
      "2      9\n",
      "3     10\n",
      "4      7\n"
     ]
    }
   ],
   "source": [
    "print X.head()\n",
    "print \"-\"*20\n",
    "print y.head()"
   ]
  },
  {
   "cell_type": "markdown",
   "metadata": {},
   "source": [
    "## Logistic Regression Model\n",
    "\n",
    "Now we can split the data into two parts, a training set and a testing set. We'll use the training set to train the model and fit parameters, and the testing set to assess how well it does. Splitting the inputs and outputs in this way is common when cross-validating a model (for example, to try cutting the data in different places to see if there are significant changes in the fit parameters)."
   ]
  },
  {
   "cell_type": "code",
   "execution_count": 9,
   "metadata": {
    "collapsed": true
   },
   "outputs": [],
   "source": [
    "# Split  into a training set and a test set\n",
    "\n",
    "# 70% train, 30% test\n",
    "X_train, X_test, y_train, y_test = \\\n",
    "                    cross_validation.train_test_split(X, y, test_size=0.2)"
   ]
  },
  {
   "cell_type": "markdown",
   "metadata": {},
   "source": [
    "Now we create a logistic regression model, which is predicting abalone age as a categorical variable (the class of 1 ring, the class of 2 rings, and so on.)"
   ]
  },
  {
   "cell_type": "code",
   "execution_count": 10,
   "metadata": {
    "collapsed": false
   },
   "outputs": [
    {
     "name": "stdout",
     "output_type": "stream",
     "text": [
      "LogisticRegression(C=1.0, class_weight=None, dual=False, fit_intercept=True,\n",
      "          intercept_scaling=1, max_iter=100, multi_class='ovr', n_jobs=1,\n",
      "          penalty='l2', random_state=None, solver='liblinear', tol=0.0001,\n",
      "          verbose=0, warm_start=False)\n"
     ]
    },
    {
     "name": "stderr",
     "output_type": "stream",
     "text": [
      "/usr/local/lib/python2.7/site-packages/sklearn/utils/validation.py:526: DataConversionWarning: A column-vector y was passed when a 1d array was expected. Please change the shape of y to (n_samples, ), for example using ravel().\n",
      "  y = column_or_1d(y, warn=True)\n"
     ]
    }
   ],
   "source": [
    "# Fit the training data to the model\n",
    "model = LogisticRegression()\n",
    "model.fit(X_train, y_train)\n",
    "\n",
    "print model"
   ]
  },
  {
   "cell_type": "markdown",
   "metadata": {},
   "source": [
    "Once we've trained the model on the training set, we assess the model with the testing set. If we cut our data into k pieces and repeated this procedure using each of the k cuts as the testing set, and compared the resulting parameters, it would be called k-fold cross validation."
   ]
  },
  {
   "cell_type": "code",
   "execution_count": 11,
   "metadata": {
    "collapsed": true
   },
   "outputs": [],
   "source": [
    "# Make predictions\n",
    "yhat_test = model.predict(X_test)"
   ]
  },
  {
   "cell_type": "code",
   "execution_count": 12,
   "metadata": {
    "collapsed": false
   },
   "outputs": [],
   "source": [
    "# Make sure y_test is a numpy array\n",
    "y_test = y_test['Rings'].apply(lambda x : int(x)).values\n",
    "\n",
    "# Compare yhat_test to y_test to determine how well the model did"
   ]
  },
  {
   "cell_type": "code",
   "execution_count": 13,
   "metadata": {
    "collapsed": false
   },
   "outputs": [
    {
     "name": "stdout",
     "output_type": "stream",
     "text": [
      "0.243113772455\n"
     ]
    }
   ],
   "source": [
    "# This is not usually a good way to assess categorical models,\n",
    "# but in this case, we're guessing age, so the categories are quantitative.\n",
    "print model.score(X_test,y_test)"
   ]
  },
  {
   "cell_type": "code",
   "execution_count": 14,
   "metadata": {
    "collapsed": false
   },
   "outputs": [],
   "source": [
    "## Yikes. This model may not be worth saving.\n",
    "#with open('logistic_regression.pickle', 'w') as f:\n",
    "#    pickle.dump(model, f)"
   ]
  },
  {
   "cell_type": "code",
   "execution_count": 15,
   "metadata": {
    "collapsed": false
   },
   "outputs": [
    {
     "data": {
      "image/png": "[encoded data removed]",
      "text/plain": [
       "<matplotlib.figure.Figure at 0x109745590>"
      ]
     },
     "metadata": {},
     "output_type": "display_data"
    }
   ],
   "source": [
    "fig = plt.figure(figsize=(7,7))\n",
    "ax = fig.add_subplot(111)\n",
    "sns.heatmap(metrics.confusion_matrix(y_test, yhat_test),\n",
    "           cmap=\"GnBu\", square=True, ax=ax)\n",
    "ax.set_title('Heatmap: Confusion Matrix for \\nLogistic Regression Model')\n",
    "ax.set_xlabel('Predicted Age')\n",
    "ax.set_ylabel('Actual Age')\n",
    "plt.show()"
   ]
  },
  {
   "cell_type": "code",
   "execution_count": 16,
   "metadata": {
    "collapsed": false
   },
   "outputs": [],
   "source": [
    "#print metrics.confusion_matrix(y_test, yhat_test)"
   ]
  },
  {
   "cell_type": "code",
   "execution_count": 19,
   "metadata": {
    "collapsed": false
   },
   "outputs": [
    {
     "name": "stdout",
     "output_type": "stream",
     "text": [
      "             precision    recall  f1-score   support\n",
      "\n",
      "          3       0.00      0.00      0.00         3\n",
      "          4       0.00      0.00      0.00        15\n",
      "          5       0.00      0.00      0.00        26\n",
      "          6       0.27      0.22      0.24        50\n",
      "          7       0.35      0.48      0.40        73\n",
      "          8       0.28      0.34      0.31       120\n",
      "          9       0.21      0.41      0.28       134\n",
      "         10       0.22      0.32      0.26       129\n",
      "         11       0.22      0.24      0.23        84\n",
      "         12       0.00      0.00      0.00        61\n",
      "         13       0.00      0.00      0.00        44\n",
      "         14       0.00      0.00      0.00        30\n",
      "         15       0.00      0.00      0.00        22\n",
      "         16       0.00      0.00      0.00         8\n",
      "         17       0.00      0.00      0.00        14\n",
      "         18       0.00      0.00      0.00         6\n",
      "         19       0.00      0.00      0.00         7\n",
      "         20       0.00      0.00      0.00         4\n",
      "         21       0.00      0.00      0.00         2\n",
      "         22       0.00      0.00      0.00         1\n",
      "         23       0.00      0.00      0.00         2\n",
      "\n",
      "avg / total       0.18      0.24      0.20       835\n",
      "\n"
     ]
    }
   ],
   "source": [
    "print metrics.classification_report(y_test, yhat_test)"
   ]
  },
  {
   "cell_type": "markdown",
   "metadata": {},
   "source": [
    "To interpret the above chart: the precision is the ratio of total number of positives in the prediction set to total number of positives in the test set. Most of the abalones have between 7 and 11 rings. For these categories our precision is around 20-30%. This means that 70-80% of the abalones that we put in these categories (i.e., that we guessed have 7-11 rings) actually have a different number of rings.\n",
    "\n",
    "The reacll of the 7-10 ring categories have a recall of about 40%, which means that 60% of the ablones that should have been in this category are not.\n",
    "\n",
    "So basically, a _lot_ of miscategorization, with most of it happening for the 7-11 rings categories (which also happen to be the most common)."
   ]
  },
  {
   "cell_type": "code",
   "execution_count": 20,
   "metadata": {
    "collapsed": false
   },
   "outputs": [
    {
     "name": "stdout",
     "output_type": "stream",
     "text": [
      "1.0119760479\n",
      "2.51459934536\n"
     ]
    }
   ],
   "source": [
    "resid = y_test - yhat_test\n",
    "print np.mean(resid)\n",
    "print np.std(resid)"
   ]
  },
  {
   "cell_type": "code",
   "execution_count": 21,
   "metadata": {
    "collapsed": false
   },
   "outputs": [
    {
     "data": {
      "image/png": "[encoded data removed]",
      "text/plain": [
       "<matplotlib.figure.Figure at 0x10a1015d0>"
      ]
     },
     "metadata": {},
     "output_type": "display_data"
    }
   ],
   "source": [
    "fig = plt.figure(figsize=(4,4))\n",
    "ax = fig.add_subplot(111)\n",
    "stats.probplot(resid, dist='norm', plot=ax)\n",
    "plt.show()"
   ]
  },
  {
   "cell_type": "markdown",
   "metadata": {},
   "source": [
    "## Using a Scaled Model\n",
    "\n",
    "For our next step we'll compare a scaled model, to see how well that does."
   ]
  },
  {
   "cell_type": "code",
   "execution_count": 22,
   "metadata": {
    "collapsed": true
   },
   "outputs": [],
   "source": [
    "# Split  into a training set and a test set\n",
    "\n",
    "# 70% train, 30% test\n",
    "X_train, X_test, y_train, y_test = \\\n",
    "                    cross_validation.train_test_split(X, y, test_size=0.2)"
   ]
  },
  {
   "cell_type": "code",
   "execution_count": 23,
   "metadata": {
    "collapsed": false
   },
   "outputs": [
    {
     "data": {
      "text/plain": [
       "LogisticRegression(C=1.0, class_weight=None, dual=False, fit_intercept=True,\n",
       "          intercept_scaling=1, max_iter=100, multi_class='ovr', n_jobs=1,\n",
       "          penalty='l2', random_state=None, solver='liblinear', tol=0.0001,\n",
       "          verbose=0, warm_start=False)"
      ]
     },
     "execution_count": 23,
     "metadata": {},
     "output_type": "execute_result"
    }
   ],
   "source": [
    "# Repeat above, but with scaled inputs\n",
    "Xscaler = preprocessing.StandardScaler().fit(X_train)\n",
    "Xstd_train = Xscaler.transform(X_train)\n",
    "Xstd_test = Xscaler.transform(X_test)\n",
    "\n",
    "modelstd = LogisticRegression()\n",
    "modelstd.fit(Xstd_train, y_train)"
   ]
  },
  {
   "cell_type": "code",
   "execution_count": 24,
   "metadata": {
    "collapsed": true
   },
   "outputs": [],
   "source": [
    "# Make predictions\n",
    "yhatstd_test = modelstd.predict(Xstd_test)\n",
    "\n",
    "y_test = y_test['Rings'].values"
   ]
  },
  {
   "cell_type": "code",
   "execution_count": 25,
   "metadata": {
    "collapsed": false
   },
   "outputs": [
    {
     "name": "stdout",
     "output_type": "stream",
     "text": [
      "0.247904191617\n"
     ]
    }
   ],
   "source": [
    "# This is not usually a good way to assess categorical models,\n",
    "# but in this case, we're guessing age, so the categories are quantitative.\n",
    "print modelstd.score(Xstd_test,y_test)"
   ]
  },
  {
   "cell_type": "code",
   "execution_count": 26,
   "metadata": {
    "collapsed": false
   },
   "outputs": [
    {
     "data": {
      "image/png": "[encoded data removed]",
      "text/plain": [
       "<matplotlib.figure.Figure at 0x10a122690>"
      ]
     },
     "metadata": {},
     "output_type": "display_data"
    }
   ],
   "source": [
    "fig = plt.figure(figsize=(7,7))\n",
    "ax = fig.add_subplot(111)\n",
    "sns.heatmap(metrics.confusion_matrix(y_test, yhatstd_test),\n",
    "           cmap=\"GnBu\", square=True, ax=ax)\n",
    "ax.set_title('Heatmap: Confusion Matrix for \\nNormalized Logistic Regression Model')\n",
    "ax.set_xlabel('Predicted Age')\n",
    "ax.set_ylabel('Actual Age')\n",
    "plt.show()"
   ]
  },
  {
   "cell_type": "code",
   "execution_count": 27,
   "metadata": {
    "collapsed": false
   },
   "outputs": [
    {
     "name": "stdout",
     "output_type": "stream",
     "text": [
      "1.02275449102\n",
      "3.65201407227\n"
     ]
    }
   ],
   "source": [
    "resid = y_test - yhat_test\n",
    "print np.mean(resid)\n",
    "print np.std(resid)"
   ]
  },
  {
   "cell_type": "code",
   "execution_count": 28,
   "metadata": {
    "collapsed": false
   },
   "outputs": [
    {
     "data": {
      "image/png": "[encoded data removed]",
      "text/plain": [
       "<matplotlib.figure.Figure at 0x10a1ad310>"
      ]
     },
     "metadata": {},
     "output_type": "display_data"
    }
   ],
   "source": [
    "fig = plt.figure(figsize=(4,4))\n",
    "ax = fig.add_subplot(111)\n",
    "stats.probplot(resid, dist='norm', plot=ax)\n",
    "plt.show()"
   ]
  },
  {
   "cell_type": "markdown",
   "metadata": {},
   "source": [
    "This model, like the corresponding unscaled version, is pretty terrible. We're underpredicting abalone age by a substantial amount, and the residuals still have curvature."
   ]
  },
  {
   "cell_type": "markdown",
   "metadata": {},
   "source": [
    "## Quantitative Assessment with Cross-Validation\n",
    "\n",
    "Moving forward, we can try adding a few additional features to our logistic regression model (more input variables, transformed responses, etc.). However, to do that we'll want to be a bit more careful about how we're assessing our models.\n",
    "\n",
    "Here, we'll implement a k-fold cross validation of our logistic regression parameters, so we can be sure we're not just getting lucky or unlucky with how we cut our data set. To do this with scikit-learn we'll use some of the goodies provided in the [scikit-learn cross-validation documentation](http://scikit-learn.org/stable/modules/cross_validation.html). Namely, we'll build a logistic regression model (which we'll use to fit the data), a shuffle split object (which we'll use to split the data at random into training and test sets), and a pipeline to connect the standard scaler to the logistic regression model.\n",
    "\n",
    "When we run the `cross_val_score()` method, we'll pass it the pipeline as our \"model\", and the shuffle split object as our cross-validation object. We'll also pass it our original inputs and outputs, X and y (note that we no longer have to split the data, standardize it, fit the model, compare the predictions, etc etc.). "
   ]
  },
  {
   "cell_type": "code",
   "execution_count": 29,
   "metadata": {
    "collapsed": true
   },
   "outputs": [],
   "source": [
    "from sklearn.model_selection import cross_val_score, cross_val_predict\n",
    "from sklearn.pipeline import make_pipeline\n",
    "from sklearn.model_selection import ShuffleSplit"
   ]
  },
  {
   "cell_type": "code",
   "execution_count": 30,
   "metadata": {
    "collapsed": false
   },
   "outputs": [
    {
     "data": {
      "text/plain": [
       "array([ 0.25937749,  0.24261772,  0.24980048,  0.23942538])"
      ]
     },
     "execution_count": 30,
     "metadata": {},
     "output_type": "execute_result"
    }
   ],
   "source": [
    "# Make a logistic regression model\n",
    "mod = LogisticRegression()\n",
    "\n",
    "# Make a ShuffleSplit object to split data into training/testing data sets randomly\n",
    "cv = ShuffleSplit(n_splits=4, test_size=0.3, random_state=0)\n",
    "\n",
    "# This will be our \"model\":\n",
    "# a pipeline that scales our inputs first, \n",
    "# then passes them to the logistic regression model\n",
    "clf = make_pipeline(preprocessing.StandardScaler(), mod)\n",
    "cross_val_score(clf, X, y, cv=cv)"
   ]
  },
  {
   "cell_type": "markdown",
   "metadata": {},
   "source": [
    "This is a big improvement in workflow, if not in accuracy: we now split the data into training and testing data sets randomly, four different times, and see what the score of each model is. Note that if we want to access the predictions themselves, we can use the `cross_val_predict()` method instead of the `cross_val_score()` method. That will allow us to compute things like a confusion matrix or run a classification report."
   ]
  },
  {
   "cell_type": "markdown",
   "metadata": {},
   "source": [
    "## Adding Volume and Interaction Terms\n",
    "\n",
    "Now that we have a more quantitative way to assess our models, let's start adding in some factors to see if we can improve our logistic regression model."
   ]
  },
  {
   "cell_type": "code",
   "execution_count": 31,
   "metadata": {
    "collapsed": true
   },
   "outputs": [],
   "source": [
    "def load_data_with_volume():\n",
    "    \n",
    "    # Load the data from this file\n",
    "    data_file = 'abalone/Dataset.data'\n",
    "    \n",
    "    # x data labels\n",
    "    xnlabs = ['Sex']\n",
    "    xqlabs = ['Length','Diameter','Height','Whole weight','Shucked weight','Viscera weight','Shell weight']\n",
    "    xlabs = xnlabs + xqlabs\n",
    "\n",
    "    # y data labels\n",
    "    ylabs = ['Rings']\n",
    "\n",
    "    # Load data to dataframe\n",
    "    df = pd.read_csv(data_file, header=None, sep=' ', names=xlabs+ylabs)\n",
    "    \n",
    "    # Filter zero values of height/length/diameter\n",
    "    df = df[df['Height']>0.0]\n",
    "    df = df[df['Length']>0.0]\n",
    "    df = df[df['Diameter']>0.0]\n",
    "    \n",
    "    # -----------------------------\n",
    "    \n",
    "    # Add volume\n",
    "    df['Volume'] = df['Height']*df['Length']*df['Diameter']\n",
    "    xqlabs.append('Volume')\n",
    "    \n",
    "    \n",
    "    # Add dimensions squared\n",
    "    sq = lambda x : x*x\n",
    "    df['Height2']   = df['Height'].apply(sq)\n",
    "    df['Length2']   = df['Length'].apply(sq)\n",
    "    df['Diameter2'] = df['Diameter'].apply(sq)\n",
    "    xqlabs.append('Height2')\n",
    "    xqlabs.append('Length2')\n",
    "    xqlabs.append('Diameter2')\n",
    "    \n",
    "    \n",
    "    # Add interactions\n",
    "    df['Height-Length'] = df['Height']*df['Length']\n",
    "    df['Length-Diameter'] = df['Length']*df['Diameter']\n",
    "    df['Height-Diameter'] = df['Height']*df['Diameter']\n",
    "\n",
    "    xqlabs.append('Height-Length')\n",
    "    xqlabs.append('Length-Diameter')\n",
    "    xqlabs.append('Height-Diameter')\n",
    "\n",
    "    # Add dimensions cubed\n",
    "    cube = lambda x : x*x*x\n",
    "    df['Height3']   = df['Height'].apply(cube)\n",
    "    df['Length3']   = df['Length'].apply(cube)\n",
    "    df['Diameter3'] = df['Diameter'].apply(cube)\n",
    "    xqlabs.append('Height3')\n",
    "    xqlabs.append('Length3')\n",
    "    xqlabs.append('Diameter3')\n",
    "\n",
    "    # -----------------------------\n",
    "    \n",
    "    dummies = pd.get_dummies(df[xnlabs], prefix='Sex')\n",
    "    \n",
    "    dfdummies = df[xqlabs+ylabs].join(dummies)\n",
    "    \n",
    "    xqlabs = xqlabs + dummies.columns.tolist()\n",
    "    \n",
    "    return Bunch(data   = dfdummies[xqlabs],\n",
    "                 target = df[ylabs],\n",
    "                 feature_names = xqlabs,\n",
    "                 target_names  = ylabs)\n"
   ]
  },
  {
   "cell_type": "code",
   "execution_count": 32,
   "metadata": {
    "collapsed": false
   },
   "outputs": [],
   "source": [
    "# Load the dataset\n",
    "datasetV = load_data_with_volume()\n",
    "XV = datasetV.data\n",
    "yV = datasetV.target"
   ]
  },
  {
   "cell_type": "code",
   "execution_count": 33,
   "metadata": {
    "collapsed": false
   },
   "outputs": [
    {
     "data": {
      "text/plain": [
       "array([ 0.26336792,  0.26097366,  0.25937749,  0.24501197])"
      ]
     },
     "execution_count": 33,
     "metadata": {},
     "output_type": "execute_result"
    }
   ],
   "source": [
    "# Make a logistic regression model\n",
    "mod = LogisticRegression()\n",
    "\n",
    "# Make a ShuffleSplit object to split data into training/testing data sets randomly\n",
    "cv = ShuffleSplit(n_splits=4, test_size=0.3, random_state=0)\n",
    "\n",
    "# This will be our \"model\":\n",
    "# a pipeline that scales our inputs first, \n",
    "# then passes them to the logistic regression model\n",
    "clf = make_pipeline(preprocessing.StandardScaler(), mod)\n",
    "cross_val_score(clf, XV, yV, cv=cv)"
   ]
  },
  {
   "cell_type": "markdown",
   "metadata": {},
   "source": [
    "Adding higher order variable inputs to our model didn't help much. Although we really didn't explore variable interactions very deeply, it's clear they're only getting us a boost of less than 0.05 in the model score. Let's actually fit the model to data, using the same model and pipeline and data set, but this time use `cross_val_predict()` instead of `cross_val_score()` so we can actually get the predictions from our model."
   ]
  },
  {
   "cell_type": "code",
   "execution_count": 34,
   "metadata": {
    "collapsed": true
   },
   "outputs": [],
   "source": [
    "from sklearn.model_selection import StratifiedKFold"
   ]
  },
  {
   "cell_type": "code",
   "execution_count": 35,
   "metadata": {
    "collapsed": true
   },
   "outputs": [],
   "source": [
    "skf = StratifiedKFold(n_splits=4)"
   ]
  },
  {
   "cell_type": "code",
   "execution_count": 36,
   "metadata": {
    "collapsed": false
   },
   "outputs": [
    {
     "name": "stdout",
     "output_type": "stream",
     "text": [
      "(4175, 20)\n",
      "(4175,)\n"
     ]
    }
   ],
   "source": [
    "print XV.values.shape\n",
    "#print len(yV.values)\n",
    "print yV.values.reshape(len(yV.values)).shape"
   ]
  },
  {
   "cell_type": "code",
   "execution_count": 37,
   "metadata": {
    "collapsed": false
   },
   "outputs": [],
   "source": [
    "# Because this is an array of shape (N,1)\n",
    "# and we need an array of shape (N,)\n",
    "# we must reshape it.\n",
    "yV = yV.values.reshape(len(yV.values))"
   ]
  },
  {
   "cell_type": "code",
   "execution_count": 38,
   "metadata": {
    "collapsed": false
   },
   "outputs": [
    {
     "name": "stderr",
     "output_type": "stream",
     "text": [
      "/usr/local/lib/python2.7/site-packages/sklearn/model_selection/_split.py:581: Warning: The least populated class in y has only 1 members, which is too few. The minimum number of groups for any class cannot be less than n_splits=4.\n",
      "  % (min_groups, self.n_splits)), Warning)\n"
     ]
    }
   ],
   "source": [
    "yhatV = cross_val_predict(clf, XV, yV, cv=skf)"
   ]
  },
  {
   "cell_type": "code",
   "execution_count": 41,
   "metadata": {
    "collapsed": false
   },
   "outputs": [
    {
     "name": "stdout",
     "output_type": "stream",
     "text": [
      "4175\n",
      "4175\n"
     ]
    }
   ],
   "source": [
    "print len(yV)\n",
    "print len(yhatV)"
   ]
  },
  {
   "cell_type": "code",
   "execution_count": 42,
   "metadata": {
    "collapsed": false
   },
   "outputs": [
    {
     "data": {
      "image/png": "[encoded data removed]",
      "text/plain": [
       "<matplotlib.figure.Figure at 0x1026e1690>"
      ]
     },
     "metadata": {},
     "output_type": "display_data"
    }
   ],
   "source": [
    "fig = plt.figure(figsize=(7,7))\n",
    "ax = fig.add_subplot(111)\n",
    "sns.heatmap(metrics.confusion_matrix(yV, yhatV),\n",
    "           cmap=\"GnBu\", square=True, ax=ax)\n",
    "ax.set_title('Heatmap: Confusion Matrix for \\nNormalized Logistic Regression Model')\n",
    "ax.set_xlabel('Predicted Age')\n",
    "ax.set_ylabel('Actual Age')\n",
    "plt.show()"
   ]
  },
  {
   "cell_type": "markdown",
   "metadata": {},
   "source": [
    "## Conclusions\n",
    "\n",
    "Throwing in the towel here... The logistic model performs very poorly when compared to other techniques like ridge regression or state vector regression, and it'll take a lot of effort, focused on this particular model form, to get it anywhere close to state vector regression."
   ]
  }
 ],
 "metadata": {
  "kernelspec": {
   "display_name": "Python 2",
   "language": "python",
   "name": "python2"
  },
  "language_info": {
   "codemirror_mode": {
    "name": "ipython",
    "version": 2
   },
   "file_extension": ".py",
   "mimetype": "text/x-python",
   "name": "python",
   "nbconvert_exporter": "python",
   "pygments_lexer": "ipython2",
   "version": "2.7.10"
  }
 },
 "nbformat": 4,
 "nbformat_minor": 0
}
