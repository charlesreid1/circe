{
 "cells": [
  {
   "cell_type": "code",
   "execution_count": 1,
   "metadata": {
    "collapsed": false,
    "deletable": true,
    "editable": true
   },
   "outputs": [
    {
     "name": "stderr",
     "output_type": "stream",
     "text": [
      "Using Theano backend.\n"
     ]
    }
   ],
   "source": [
    "'''Deep Dreaming in Keras.\n",
    "\n",
    "Run the script with:\n",
    "```\n",
    "python deep_dream.py path_to_your_base_image.jpg prefix_for_results\n",
    "```\n",
    "e.g.:\n",
    "```\n",
    "python deep_dream.py img/mypic.jpg results/dream\n",
    "```\n",
    "\n",
    "It is preferable to run this script on GPU, for speed.\n",
    "If running on CPU, prefer the TensorFlow backend (much faster).\n",
    "\n",
    "Example results: http://i.imgur.com/FX6ROg9.jpg\n",
    "'''\n",
    "from __future__ import print_function\n",
    "from keras.preprocessing.image import load_img, img_to_array\n",
    "import numpy as np\n",
    "from scipy.misc import imsave\n",
    "from scipy.optimize import fmin_l_bfgs_b\n",
    "import time\n",
    "import argparse"
   ]
  },
  {
   "cell_type": "code",
   "execution_count": 2,
   "metadata": {
    "collapsed": true,
    "deletable": true,
    "editable": true
   },
   "outputs": [],
   "source": [
    "from keras.applications import vgg16\n",
    "from keras import backend as K\n",
    "from keras.layers import Input"
   ]
  },
  {
   "cell_type": "code",
   "execution_count": 24,
   "metadata": {
    "collapsed": true,
    "deletable": true,
    "editable": true
   },
   "outputs": [],
   "source": [
    "#parser = argparse.ArgumentParser(description='Deep Dreams with Keras.')\n",
    "#parser.add_argument('base_image_path', metavar='base', type=str,\n",
    "#                    help='Path to the image to transform.')\n",
    "#parser.add_argument('result_prefix', metavar='res_prefix', type=str,\n",
    "#                    help='Prefix for the saved results.')\n",
    "\n",
    "#args = parser.parse_args()\n",
    "base_image_path = 'base_image.jpg'#args.base_image_path\n",
    "result_prefix = 'results'#args.result_prefix\n",
    "\n",
    "# dimensions of the generated picture.\n",
    "img_height = 2233\n",
    "img_width = 4613\n",
    "\n",
    "# path to the model weights file.\n",
    "weights_path = 'vgg16_weights.h5'\n",
    "\n",
    "# some settings we found interesting\n",
    "saved_settings = {\n",
    "    'bad_trip': {'features': {'block4_conv1': 0.05,\n",
    "                              'block4_conv2': 0.01,\n",
    "                              'block4_conv3': 0.01},\n",
    "                 'continuity': 0.1,\n",
    "                 'dream_l2': 0.8,\n",
    "                 'jitter': 5},\n",
    "    'dreamy': {'features': {'block5_conv1': 0.05,\n",
    "                            'block5_conv2': 0.02},\n",
    "               'continuity': 0.1,\n",
    "               'dream_l2': 0.02,\n",
    "               'jitter': 0},\n",
    "}\n",
    "# the settings we will use in this experiment\n",
    "settings = saved_settings['bad_trip']"
   ]
  },
  {
   "cell_type": "code",
   "execution_count": 25,
   "metadata": {
    "collapsed": true,
    "deletable": true,
    "editable": true
   },
   "outputs": [],
   "source": [
    "# util function to open, resize and format pictures into appropriate tensors\n",
    "\n",
    "\n",
    "def preprocess_image(image_path):\n",
    "    img = load_img(image_path, target_size=(img_height, img_width))\n",
    "    img = img_to_array(img)\n",
    "    img = np.expand_dims(img, axis=0)\n",
    "    img = vgg16.preprocess_input(img)\n",
    "    return img\n",
    "\n",
    "# util function to convert a tensor into a valid image\n",
    "\n",
    "\n",
    "def deprocess_image(x):\n",
    "    if K.image_dim_ordering() == 'th':\n",
    "        x = x.reshape((3, img_height, img_width))\n",
    "        x = x.transpose((1, 2, 0))\n",
    "    else:\n",
    "        x = x.reshape((img_height, img_width, 3))\n",
    "    # Remove zero-center by mean pixel\n",
    "    x[:, :, 0] += 103.939\n",
    "    x[:, :, 1] += 116.779\n",
    "    x[:, :, 2] += 123.68\n",
    "    # 'BGR'->'RGB'\n",
    "    x = x[:, :, ::-1]\n",
    "    x = np.clip(x, 0, 255).astype('uint8')\n",
    "    return x\n"
   ]
  },
  {
   "cell_type": "code",
   "execution_count": 26,
   "metadata": {
    "collapsed": false,
    "deletable": true,
    "editable": true
   },
   "outputs": [
    {
     "name": "stdout",
     "output_type": "stream",
     "text": [
      "Model loaded.\n"
     ]
    }
   ],
   "source": [
    "if K.image_dim_ordering() == 'th':\n",
    "    img_size = (3, img_height, img_width)\n",
    "else:\n",
    "    img_size = (img_height, img_width, 3)\n",
    "# this will contain our generated image\n",
    "dream = Input(batch_shape=(1,) + img_size)\n",
    "\n",
    "# build the VGG16 network with our placeholder\n",
    "# the model will be loaded with pre-trained ImageNet weights\n",
    "model = vgg16.VGG16(input_tensor=dream,\n",
    "                    weights='imagenet', include_top=False)\n",
    "print('Model loaded.')\n",
    "\n",
    "# get the symbolic outputs of each \"key\" layer (we gave them unique names).\n",
    "layer_dict = dict([(layer.name, layer) for layer in model.layers])"
   ]
  },
  {
   "cell_type": "code",
   "execution_count": 27,
   "metadata": {
    "collapsed": true,
    "deletable": true,
    "editable": true
   },
   "outputs": [],
   "source": [
    "# continuity loss util function\n",
    "\n",
    "\n",
    "def continuity_loss(x):\n",
    "    assert K.ndim(x) == 4\n",
    "    if K.image_dim_ordering() == 'th':\n",
    "        a = K.square(x[:, :, :img_height - 1, :img_width - 1] -\n",
    "                     x[:, :, 1:, :img_width - 1])\n",
    "        b = K.square(x[:, :, :img_height - 1, :img_width - 1] -\n",
    "                     x[:, :, :img_height - 1, 1:])\n",
    "    else:\n",
    "        a = K.square(x[:, :img_height - 1, :img_width - 1, :] -\n",
    "                     x[:, 1:, :img_width - 1, :])\n",
    "        b = K.square(x[:, :img_height - 1, :img_width - 1, :] -\n",
    "                     x[:, :img_height - 1, 1:, :])\n",
    "    return K.sum(K.pow(a + b, 1.25))"
   ]
  },
  {
   "cell_type": "code",
   "execution_count": 28,
   "metadata": {
    "collapsed": true,
    "deletable": true,
    "editable": true
   },
   "outputs": [],
   "source": [
    "# define the loss\n",
    "loss = K.variable(0.)\n",
    "for layer_name in settings['features']:\n",
    "    # add the L2 norm of the features of a layer to the loss\n",
    "    assert layer_name in layer_dict.keys(), 'Layer ' + layer_name + ' not found in model.'\n",
    "    coeff = settings['features'][layer_name]\n",
    "    x = layer_dict[layer_name].output\n",
    "    shape = layer_dict[layer_name].output_shape\n",
    "    # we avoid border artifacts by only involving non-border pixels in the loss\n",
    "    if K.image_dim_ordering() == 'th':\n",
    "        loss -= coeff * K.sum(K.square(x[:, :, 2: shape[2] - 2, 2: shape[3] - 2])) / np.prod(shape[1:])\n",
    "    else:\n",
    "        loss -= coeff * K.sum(K.square(x[:, 2: shape[1] - 2, 2: shape[2] - 2, :])) / np.prod(shape[1:])"
   ]
  },
  {
   "cell_type": "code",
   "execution_count": null,
   "metadata": {
    "collapsed": true,
    "deletable": true,
    "editable": true
   },
   "outputs": [],
   "source": [
    "# add continuity loss (gives image local coherence, can result in an artful blur)\n",
    "loss += settings['continuity'] * continuity_loss(dream) / np.prod(img_size)\n",
    "# add image L2 norm to loss (prevents pixels from taking very high values, makes image darker)\n",
    "loss += settings['dream_l2'] * K.sum(K.square(dream)) / np.prod(img_size)\n",
    "\n",
    "# feel free to further modify the loss as you see fit, to achieve new effects...\n",
    "\n",
    "# compute the gradients of the dream wrt the loss\n",
    "grads = K.gradients(loss, dream)\n",
    "\n",
    "outputs = [loss]\n",
    "if isinstance(grads, (list, tuple)):\n",
    "    outputs += grads\n",
    "else:\n",
    "    outputs.append(grads)\n",
    "\n",
    "f_outputs = K.function([dream], outputs)\n",
    "\n",
    "\n",
    "def eval_loss_and_grads(x):\n",
    "    x = x.reshape((1,) + img_size)\n",
    "    outs = f_outputs([x])\n",
    "    loss_value = outs[0]\n",
    "    if len(outs[1:]) == 1:\n",
    "        grad_values = outs[1].flatten().astype('float64')\n",
    "    else:\n",
    "        grad_values = np.array(outs[1:]).flatten().astype('float64')\n",
    "    return loss_value, grad_values\n",
    "\n",
    "# this Evaluator class makes it possible\n",
    "# to compute loss and gradients in one pass\n",
    "# while retrieving them via two separate functions,\n",
    "# \"loss\" and \"grads\". This is done because scipy.optimize\n",
    "# requires separate functions for loss and gradients,\n",
    "# but computing them separately would be inefficient.\n",
    "\n",
    "\n",
    "class Evaluator(object):\n",
    "\n",
    "    def __init__(self):\n",
    "        self.loss_value = None\n",
    "        self.grad_values = None\n",
    "\n",
    "    def loss(self, x):\n",
    "        assert self.loss_value is None\n",
    "        loss_value, grad_values = eval_loss_and_grads(x)\n",
    "        self.loss_value = loss_value\n",
    "        self.grad_values = grad_values\n",
    "        return self.loss_value\n",
    "\n",
    "    def grads(self, x):\n",
    "        assert self.loss_value is not None\n",
    "        grad_values = np.copy(self.grad_values)\n",
    "        self.loss_value = None\n",
    "        self.grad_values = None\n",
    "        return grad_values\n",
    "\n",
    "evaluator = Evaluator()"
   ]
  },
  {
   "cell_type": "code",
   "execution_count": null,
   "metadata": {
    "collapsed": false,
    "deletable": true,
    "editable": true
   },
   "outputs": [
    {
     "name": "stdout",
     "output_type": "stream",
     "text": [
      "Start of iteration 0\n"
     ]
    }
   ],
   "source": [
    "# run scipy-based optimization (L-BFGS) over the pixels of the generated image\n",
    "# so as to minimize the loss\n",
    "x = preprocess_image(base_image_path)\n",
    "for i in range(15):\n",
    "    print('Start of iteration', i)\n",
    "    start_time = time.time()\n",
    "\n",
    "    # add a random jitter to the initial image. This will be reverted at decoding time\n",
    "    random_jitter = (settings['jitter'] * 2) * (np.random.random(img_size) - 0.5)\n",
    "    x += random_jitter\n",
    "\n",
    "    # run L-BFGS for 7 steps\n",
    "    x, min_val, info = fmin_l_bfgs_b(evaluator.loss, x.flatten(),\n",
    "                                     fprime=evaluator.grads, maxfun=7)\n",
    "    print('Current loss value:', min_val)\n",
    "    # decode the dream and save it\n",
    "    x = x.reshape(img_size)\n",
    "    x -= random_jitter\n",
    "    img = deprocess_image(np.copy(x))\n",
    "    fname = result_prefix + '_at_iteration_%d.png' % i\n",
    "    imsave(fname, img)\n",
    "    end_time = time.time()\n",
    "    print('Image saved as', fname)\n",
    "    print('Iteration %d completed in %ds' % (i, end_time - start_time))\n"
   ]
  },
  {
   "cell_type": "code",
   "execution_count": null,
   "metadata": {
    "collapsed": true,
    "deletable": true,
    "editable": true
   },
   "outputs": [],
   "source": []
  },
  {
   "cell_type": "code",
   "execution_count": null,
   "metadata": {
    "collapsed": true
   },
   "outputs": [],
   "source": []
  },
  {
   "cell_type": "code",
   "execution_count": null,
   "metadata": {
    "collapsed": true
   },
   "outputs": [],
   "source": []
  },
  {
   "cell_type": "code",
   "execution_count": null,
   "metadata": {
    "collapsed": true
   },
   "outputs": [],
   "source": []
  }
 ],
 "metadata": {
  "kernelspec": {
   "display_name": "Python 2",
   "language": "python",
   "name": "python2"
  },
  "language_info": {
   "codemirror_mode": {
    "name": "ipython",
    "version": 2
   },
   "file_extension": ".py",
   "mimetype": "text/x-python",
   "name": "python",
   "nbconvert_exporter": "python",
   "pygments_lexer": "ipython2",
   "version": "2.7.10"
  }
 },
 "nbformat": 4,
 "nbformat_minor": 2
}
