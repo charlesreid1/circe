{
 "cells": [
  {
   "cell_type": "code",
   "execution_count": 5,
   "metadata": {
    "collapsed": false
   },
   "outputs": [],
   "source": [
    "'''\n",
    "Using a neural network to learn to speak like the Apollo 11 astronauts.\n",
    "\n",
    "Based on Keras example: https://github.com/fchollet/keras/blob/master/examples/lstm_text_generation.py\n",
    "\n",
    "This utilizes an LSTM (Long-Short Term Memory) neural network to learn language.\n",
    "In the example, 20 epochs are required for a corpus of 600,000 characters.\n",
    "Apollo 11 mission logs contain 1.5 million (1.3 million, stripping out JSON syntax).\n",
    "These are from the Olipy repository.\n",
    "https://github.com/leonardr/olipy\n",
    "\n",
    "\n",
    "\n",
    "It is recommended to run this script on GPU, as recurrent\n",
    "networks are quite computationally intensive.\n",
    "\n",
    "If you try this script on new data, make sure your corpus\n",
    "has at least ~100k characters. ~1M is better.\n",
    "'''\n",
    "\n",
    "from __future__ import print_function\n",
    "from keras.models import Sequential\n",
    "from keras.layers import Dense, Activation\n",
    "from keras.layers import LSTM\n",
    "from keras.optimizers import RMSprop\n",
    "from keras.utils.data_utils import get_file\n",
    "import numpy as np\n",
    "import random\n",
    "import sys\n",
    "import json"
   ]
  },
  {
   "cell_type": "code",
   "execution_count": 16,
   "metadata": {},
   "outputs": [
    {
     "name": "stdout",
     "output_type": "stream",
     "text": [
      "<type 'list'>\n{\"tokens\": [\"Good morning, 11.\", \"This is Houston.\", \"Over.\"], \"speaker\": \"McCandless\", \"time\": \"147:47:24\"}\n\n"
     ]
    }
   ],
   "source": [
    "with open('data/apollo_11.txt') as f:\n",
    "    lines = f.readlines()\n",
    "    #tokens = json.loads(f.read())\n",
    "\n",
    "#print(len(token.keys()))\n",
    "print(type(lines))\n",
    "print(lines[0])"
   ]
  },
  {
   "cell_type": "code",
   "execution_count": 7,
   "metadata": {
    "collapsed": true
   },
   "outputs": [],
   "source": [
    ""
   ]
  },
  {
   "cell_type": "code",
   "execution_count": null,
   "metadata": {},
   "outputs": [],
   "source": [
    ""
   ]
  }
 ],
 "metadata": {
  "kernelspec": {
   "display_name": "Python 2",
   "language": "python",
   "name": "python2"
  },
  "language_info": {
   "codemirror_mode": {
    "name": "ipython",
    "version": 2.0
   },
   "file_extension": ".py",
   "mimetype": "text/x-python",
   "name": "python",
   "nbconvert_exporter": "python",
   "pygments_lexer": "ipython2",
   "version": "2.7.10"
  }
 },
 "nbformat": 4,
 "nbformat_minor": 0
}