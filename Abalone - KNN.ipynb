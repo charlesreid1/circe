{
 "cells": [
  {
   "cell_type": "markdown",
   "metadata": {},
   "source": [
    "# K Nearest Neighbor\n",
    "\n",
    "<br />\n",
    "<br />\n",
    "<br />\n",
    "\n",
    "### Table of Contents\n",
    "\n",
    "* Introduction\n",
    "* Loading Dataset\n",
    "* K Nearest Neighbors\n",
    "\n",
    "(Ended at using a scaled model)\n",
    "\n",
    "(Need to construct pipeline)\n",
    "\n",
    "(Need to eliminate sparse variables - dummies)\n",
    "\n",
    "This draws from:\n",
    "* <u>Introduction to Machine Learning with Python</u> (Andreas C. Müller, Sarah Guido, O'Reilly Press 2016).\n",
    "\n",
    "<br />\n",
    "<br />\n",
    "<br />"
   ]
  },
  {
   "cell_type": "markdown",
   "metadata": {},
   "source": [
    "## Introduction\n",
    "\n",
    "We'll explore the use of the K-nearest neighbor machine learning algorithm, an extremely simple machine learning algorithm, to fit our data, assess how well it performs, and compare its performance to other machine learning algorithms."
   ]
  },
  {
   "cell_type": "code",
   "execution_count": 1,
   "metadata": {
    "collapsed": false
   },
   "outputs": [
    {
     "name": "stderr",
     "output_type": "stream",
     "text": [
      "/Library/Frameworks/Python.framework/Versions/2.7/lib/python2.7/site-packages/matplotlib/__init__.py:872: UserWarning: axes.color_cycle is deprecated and replaced with axes.prop_cycle; please use the latter.\n",
      "  warnings.warn(self.msg_depr % (key, alt_key))\n",
      "/usr/local/lib/python2.7/site-packages/sklearn/cross_validation.py:44: DeprecationWarning: This module was deprecated in version 0.18 in favor of the model_selection module into which all the refactored classes and functions are moved. Also note that the interface of the new CV iterators are different from that of this module. This module will be removed in 0.20.\n",
      "  \"This module will be removed in 0.20.\", DeprecationWarning)\n"
     ]
    }
   ],
   "source": [
    "%matplotlib inline\n",
    "\n",
    "# numbers, stats, plots\n",
    "import pandas as pd\n",
    "import numpy as np\n",
    "import seaborn as sns\n",
    "import matplotlib.pyplot as plt\n",
    "import statsmodels.api as sm\n",
    "import scipy.stats as stats\n",
    "\n",
    "# sklearn support\n",
    "from sklearn import metrics, cross_validation, preprocessing\n",
    "from sklearn.datasets.base import Bunch\n",
    "from sklearn.model_selection import cross_val_score, cross_val_predict\n",
    "from sklearn.pipeline import make_pipeline\n",
    "from sklearn.model_selection import ShuffleSplit, StratifiedKFold\n",
    "\n",
    "# machine learning algorithm of interest\n",
    "from sklearn.neighbors import KNeighborsClassifier\n",
    "\n",
    "#import pickle"
   ]
  },
  {
   "cell_type": "markdown",
   "metadata": {},
   "source": [
    "## Loading Dataset\n",
    "\n",
    "Start by loading the dataset into a scikit learn `Bundle` object:"
   ]
  },
  {
   "cell_type": "code",
   "execution_count": 2,
   "metadata": {
    "collapsed": false
   },
   "outputs": [],
   "source": [
    "def load_data():\n",
    "    \n",
    "    # Load the data from this file\n",
    "    data_file = 'abalone/Dataset.data'\n",
    "    \n",
    "    # x data labels\n",
    "    xnlabs = ['Sex']\n",
    "    xqlabs = ['Length','Diameter','Height','Whole weight','Shucked weight','Viscera weight','Shell weight']\n",
    "    xlabs = xnlabs + xqlabs\n",
    "\n",
    "    # y data labels\n",
    "    ylabs = ['Rings']\n",
    "\n",
    "    # Load data to dataframe\n",
    "    df = pd.read_csv(data_file, header=None, sep=' ', names=xlabs+ylabs)\n",
    "    \n",
    "    # Filter zero values of height/length/diameter\n",
    "    df = df[df['Height']>0.0]\n",
    "    df = df[df['Length']>0.0]\n",
    "    df = df[df['Diameter']>0.0]\n",
    "    \n",
    "    df['Volume'] = df['Height']*df['Length']*df['Diameter']\n",
    "    xqlabs.append('Volume')\n",
    "    \n",
    "    dummies = pd.get_dummies(df[xnlabs], prefix='Sex')\n",
    "    \n",
    "    dfdummies = df[xqlabs+ylabs].join(dummies)\n",
    "    \n",
    "    xqlabs = xqlabs + dummies.columns.tolist()\n",
    "    \n",
    "    return Bunch(data   = dfdummies[xqlabs],\n",
    "                 target = df[ylabs],\n",
    "                 feature_names = xqlabs,\n",
    "                 target_names  = ylabs)\n"
   ]
  },
  {
   "cell_type": "code",
   "execution_count": 3,
   "metadata": {
    "collapsed": false
   },
   "outputs": [],
   "source": [
    "# Load the dataset\n",
    "dataset = load_data()\n",
    "X = dataset.data\n",
    "y = dataset.target"
   ]
  },
  {
   "cell_type": "code",
   "execution_count": 4,
   "metadata": {
    "collapsed": false
   },
   "outputs": [
    {
     "name": "stdout",
     "output_type": "stream",
     "text": [
      "   Length  Diameter  Height  Whole weight  Shucked weight  Viscera weight  \\\n",
      "0   0.455     0.365   0.095        0.5140          0.2245          0.1010   \n",
      "1   0.350     0.265   0.090        0.2255          0.0995          0.0485   \n",
      "2   0.530     0.420   0.135        0.6770          0.2565          0.1415   \n",
      "3   0.440     0.365   0.125        0.5160          0.2155          0.1140   \n",
      "4   0.330     0.255   0.080        0.2050          0.0895          0.0395   \n",
      "\n",
      "   Shell weight    Volume  Sex_F  Sex_I  Sex_M  \n",
      "0         0.150  0.015777    0.0    0.0    1.0  \n",
      "1         0.070  0.008348    0.0    0.0    1.0  \n",
      "2         0.210  0.030051    1.0    0.0    0.0  \n",
      "3         0.155  0.020075    0.0    0.0    1.0  \n",
      "4         0.055  0.006732    0.0    1.0    0.0  \n",
      "--------------------\n",
      "   Rings\n",
      "0     15\n",
      "1      7\n",
      "2      9\n",
      "3     10\n",
      "4      7\n"
     ]
    }
   ],
   "source": [
    "print X.head()\n",
    "print \"-\"*20\n",
    "print y.head()"
   ]
  },
  {
   "cell_type": "code",
   "execution_count": 5,
   "metadata": {
    "collapsed": true
   },
   "outputs": [],
   "source": [
    "# Split  into a training set and a test set\n",
    "X_train, X_test, y_train, y_test = \\\n",
    "                    cross_validation.train_test_split(X, y, test_size=0.2)"
   ]
  },
  {
   "cell_type": "markdown",
   "metadata": {},
   "source": [
    "## K Nearest Neighbors\n",
    "\n",
    "We have loaded the data, and split it into a test set and a training set. Now we're ready to run the k-nearest neighbors algorithm on the result. (Note: once we've worked out the details, we'll create a pipeline to standardize and cross-validate.) Start with a k-nearest neighbors classifier model:"
   ]
  },
  {
   "cell_type": "code",
   "execution_count": 6,
   "metadata": {
    "collapsed": true
   },
   "outputs": [],
   "source": [
    "from sklearn.neighbors import KNeighborsClassifier"
   ]
  },
  {
   "cell_type": "code",
   "execution_count": 7,
   "metadata": {
    "collapsed": false
   },
   "outputs": [
    {
     "name": "stdout",
     "output_type": "stream",
     "text": [
      "KNeighborsClassifier(algorithm='auto', leaf_size=30, metric='minkowski',\n",
      "           metric_params=None, n_jobs=1, n_neighbors=10, p=2,\n",
      "           weights='uniform')\n"
     ]
    }
   ],
   "source": [
    "def make_spiffy(y):\n",
    "    # Turns an (N,1) array into an (N,) array (???)\n",
    "    return y.values.reshape(len(y.values))\n",
    "\n",
    "knc = KNeighborsClassifier(n_neighbors=10)\n",
    "knc.fit(X_train, make_spiffy(y_train))\n",
    "\n",
    "print knc"
   ]
  },
  {
   "cell_type": "code",
   "execution_count": 8,
   "metadata": {
    "collapsed": true
   },
   "outputs": [],
   "source": [
    "# Make predictions\n",
    "yhat_test = knc.predict(X_test)"
   ]
  },
  {
   "cell_type": "code",
   "execution_count": 9,
   "metadata": {
    "collapsed": false
   },
   "outputs": [
    {
     "name": "stdout",
     "output_type": "stream",
     "text": [
      "0.240718562874\n"
     ]
    }
   ],
   "source": [
    "# This is not usually a good way to assess categorical models,\n",
    "# but in this case, we're guessing age, so the categories are quantitative.\n",
    "print knc.score(X_test,y_test)"
   ]
  },
  {
   "cell_type": "code",
   "execution_count": 10,
   "metadata": {
    "collapsed": false
   },
   "outputs": [],
   "source": [
    "## Yikes. This model may not be worth saving.\n",
    "#with open('logistic_regression.pickle', 'w') as f:\n",
    "#    pickle.dump(model, f)"
   ]
  },
  {
   "cell_type": "code",
   "execution_count": 11,
   "metadata": {
    "collapsed": false
   },
   "outputs": [
    {
     "data": {
      "image/png": "[encoded data removed]",
      "text/plain": [
       "<matplotlib.figure.Figure at 0x10889fed0>"
      ]
     },
     "metadata": {},
     "output_type": "display_data"
    }
   ],
   "source": [
    "fig = plt.figure(figsize=(7,7))\n",
    "ax = fig.add_subplot(111)\n",
    "sns.heatmap(metrics.confusion_matrix(y_test, yhat_test),\n",
    "           cmap=\"GnBu\", square=True, ax=ax)\n",
    "ax.set_title('Heatmap: Confusion Matrix for \\nKNN Classifier Model')\n",
    "ax.set_xlabel('Predicted Age')\n",
    "ax.set_ylabel('Actual Age')\n",
    "plt.show()"
   ]
  },
  {
   "cell_type": "code",
   "execution_count": 12,
   "metadata": {
    "collapsed": false
   },
   "outputs": [],
   "source": [
    "#print metrics.confusion_matrix(y_test, yhat_test)"
   ]
  },
  {
   "cell_type": "code",
   "execution_count": 13,
   "metadata": {
    "collapsed": false
   },
   "outputs": [
    {
     "name": "stdout",
     "output_type": "stream",
     "text": [
      "             precision    recall  f1-score   support\n",
      "\n",
      "          3       0.00      0.00      0.00         4\n",
      "          4       0.36      0.36      0.36        11\n",
      "          5       0.38      0.35      0.36        26\n",
      "          6       0.21      0.23      0.22        47\n",
      "          7       0.30      0.41      0.35        66\n",
      "          8       0.31      0.31      0.31       124\n",
      "          9       0.22      0.37      0.28       122\n",
      "         10       0.22      0.23      0.22       146\n",
      "         11       0.22      0.23      0.22        99\n",
      "         12       0.14      0.09      0.11        44\n",
      "         13       0.10      0.05      0.07        37\n",
      "         14       0.12      0.03      0.05        34\n",
      "         15       0.25      0.05      0.09        19\n",
      "         16       0.20      0.06      0.10        16\n",
      "         17       0.25      0.09      0.13        11\n",
      "         18       0.00      0.00      0.00         8\n",
      "         19       0.00      0.00      0.00         8\n",
      "         20       0.00      0.00      0.00         6\n",
      "         21       0.00      0.00      0.00         3\n",
      "         22       0.00      0.00      0.00         1\n",
      "         23       0.00      0.00      0.00         2\n",
      "         26       0.00      0.00      0.00         1\n",
      "\n",
      "avg / total       0.22      0.24      0.22       835\n",
      "\n"
     ]
    },
    {
     "name": "stderr",
     "output_type": "stream",
     "text": [
      "/usr/local/lib/python2.7/site-packages/sklearn/metrics/classification.py:1113: UndefinedMetricWarning: Precision and F-score are ill-defined and being set to 0.0 in labels with no predicted samples.\n",
      "  'precision', 'predicted', average, warn_for)\n"
     ]
    }
   ],
   "source": [
    "print metrics.classification_report(y_test, yhat_test)"
   ]
  },
  {
   "cell_type": "code",
   "execution_count": 14,
   "metadata": {
    "collapsed": false
   },
   "outputs": [
    {
     "name": "stdout",
     "output_type": "stream",
     "text": [
      "0.936526946108\n",
      "2.4332122944\n"
     ]
    }
   ],
   "source": [
    "resid = make_spiffy(y_test) - yhat_test\n",
    "\n",
    "print np.mean(resid)\n",
    "print np.std(resid)"
   ]
  },
  {
   "cell_type": "code",
   "execution_count": 15,
   "metadata": {
    "collapsed": false
   },
   "outputs": [
    {
     "data": {
      "image/png": "[encoded data removed]",
      "text/plain": [
       "<matplotlib.figure.Figure at 0x108b3c410>"
      ]
     },
     "metadata": {},
     "output_type": "display_data"
    }
   ],
   "source": [
    "fig = plt.figure(figsize=(4,4))\n",
    "ax = fig.add_subplot(111)\n",
    "stats.probplot(resid, dist='norm', plot=ax)\n",
    "plt.show()"
   ]
  },
  {
   "cell_type": "markdown",
   "metadata": {},
   "source": [
    "With a score of 0.20, it's going to take a lot of work to get this model up to a level of accuracy comparable with, say, linear regression or state vector regression."
   ]
  },
  {
   "cell_type": "markdown",
   "metadata": {},
   "source": [
    "## Making a Pipeline"
   ]
  },
  {
   "cell_type": "code",
   "execution_count": 21,
   "metadata": {
    "collapsed": false
   },
   "outputs": [
    {
     "data": {
      "text/plain": [
       "array([ 0.22186752,  0.25219473,  0.2330407 ,  0.24102155])"
      ]
     },
     "execution_count": 21,
     "metadata": {},
     "output_type": "execute_result"
    }
   ],
   "source": [
    "# Make a logistic regression model\n",
    "knc = KNeighborsClassifier(n_neighbors=10)\n",
    "\n",
    "# Make a ShuffleSplit object to split data into training/testing data sets randomly\n",
    "cv = ShuffleSplit(n_splits=4, test_size=0.3, random_state=0)\n",
    "\n",
    "# This will be our \"model\":\n",
    "# a pipeline that scales our inputs first, \n",
    "# then passes them to the logistic regression model\n",
    "clf = make_pipeline(preprocessing.StandardScaler(), knc)\n",
    "cross_val_score(clf, X, make_spiffy(y), cv=cv)"
   ]
  },
  {
   "cell_type": "markdown",
   "metadata": {},
   "source": [
    "Now let's use this cross-validation pipeline to see if adding a volume term improves this model at all."
   ]
  },
  {
   "cell_type": "markdown",
   "metadata": {},
   "source": [
    "## Adding Volume/Interaction Terms\n",
    "\n",
    "Now that we have a more quantitative way to assess our models, let's start adding in some factors to see if we can improve our logistic regression model."
   ]
  },
  {
   "cell_type": "code",
   "execution_count": 27,
   "metadata": {
    "collapsed": true
   },
   "outputs": [],
   "source": [
    "def load_data_with_volume():\n",
    "    \n",
    "    # Load the data from this file\n",
    "    data_file = 'abalone/Dataset.data'\n",
    "    \n",
    "    # x data labels\n",
    "    xnlabs = ['Sex']\n",
    "    xqlabs = ['Length','Diameter','Height','Whole weight','Shucked weight','Viscera weight','Shell weight']\n",
    "    xlabs = xnlabs + xqlabs\n",
    "\n",
    "    # y data labels\n",
    "    ylabs = ['Rings']\n",
    "\n",
    "    # Load data to dataframe\n",
    "    df = pd.read_csv(data_file, header=None, sep=' ', names=xlabs+ylabs)\n",
    "    \n",
    "    # Filter zero values of height/length/diameter\n",
    "    df = df[df['Height']>0.0]\n",
    "    df = df[df['Length']>0.0]\n",
    "    df = df[df['Diameter']>0.0]\n",
    "    \n",
    "    # -----------------------------\n",
    "    \n",
    "    # Add volume\n",
    "    df['Volume'] = df['Height']*df['Length']*df['Diameter']\n",
    "    xqlabs.append('Volume')\n",
    "    \n",
    "    \n",
    "    # Add dimensions squared\n",
    "    sq = lambda x : x*x\n",
    "    df['Height2']   = df['Height'].apply(sq)\n",
    "    df['Length2']   = df['Length'].apply(sq)\n",
    "    df['Diameter2'] = df['Diameter'].apply(sq)\n",
    "    xqlabs.append('Height2')\n",
    "    xqlabs.append('Length2')\n",
    "    xqlabs.append('Diameter2')\n",
    "    \n",
    "    \n",
    "    # Add interactions\n",
    "    df['Height-Length'] = df['Height']*df['Length']\n",
    "    df['Length-Diameter'] = df['Length']*df['Diameter']\n",
    "    df['Height-Diameter'] = df['Height']*df['Diameter']\n",
    "\n",
    "    xqlabs.append('Height-Length')\n",
    "    xqlabs.append('Length-Diameter')\n",
    "    xqlabs.append('Height-Diameter')\n",
    "\n",
    "    # Add dimensions cubed\n",
    "    cube = lambda x : x*x*x\n",
    "    df['Height3']   = df['Height'].apply(cube)\n",
    "    df['Length3']   = df['Length'].apply(cube)\n",
    "    df['Diameter3'] = df['Diameter'].apply(cube)\n",
    "    xqlabs.append('Height3')\n",
    "    xqlabs.append('Length3')\n",
    "    xqlabs.append('Diameter3')\n",
    "\n",
    "    # -----------------------------\n",
    "    \n",
    "    dummies = pd.get_dummies(df[xnlabs], prefix='Sex')\n",
    "    \n",
    "    dfdummies = df[xqlabs+ylabs].join(dummies)\n",
    "    \n",
    "    xqlabs = xqlabs + dummies.columns.tolist()\n",
    "    \n",
    "    return Bunch(data   = dfdummies[xqlabs],\n",
    "                 target = df[ylabs],\n",
    "                 feature_names = xqlabs,\n",
    "                 target_names  = ylabs)\n"
   ]
  },
  {
   "cell_type": "code",
   "execution_count": 28,
   "metadata": {
    "collapsed": false
   },
   "outputs": [],
   "source": [
    "# Load the dataset\n",
    "datasetV = load_data_with_volume()\n",
    "XV = datasetV.data\n",
    "yV = datasetV.target"
   ]
  },
  {
   "cell_type": "markdown",
   "metadata": {},
   "source": [
    "## Using Volume in Pipeline\n",
    "\n",
    "Next we'll use the volume term we added to the data loading function to create a K-Nearest Neighbor model with volume included."
   ]
  },
  {
   "cell_type": "code",
   "execution_count": 29,
   "metadata": {
    "collapsed": false
   },
   "outputs": [
    {
     "data": {
      "text/plain": [
       "array([ 0.22585794,  0.24102155,  0.22825219,  0.23144453])"
      ]
     },
     "execution_count": 29,
     "metadata": {},
     "output_type": "execute_result"
    }
   ],
   "source": [
    "# Make a logistic regression model\n",
    "knc = KNeighborsClassifier(n_neighbors=10)\n",
    "\n",
    "# Make a ShuffleSplit object to split data into training/testing data sets randomly\n",
    "cv = ShuffleSplit(n_splits=4, test_size=0.3, random_state=0)\n",
    "\n",
    "# This will be our \"model\":\n",
    "# a pipeline that scales our inputs first, \n",
    "# then passes them to the logistic regression model\n",
    "clf = make_pipeline(preprocessing.StandardScaler(), knc)\n",
    "cross_val_score(clf, XV, make_spiffy(yV), cv=cv)"
   ]
  },
  {
   "cell_type": "code",
   "execution_count": null,
   "metadata": {
    "collapsed": true
   },
   "outputs": [],
   "source": []
  }
 ],
 "metadata": {
  "kernelspec": {
   "display_name": "Python 2",
   "language": "python",
   "name": "python2"
  },
  "language_info": {
   "codemirror_mode": {
    "name": "ipython",
    "version": 2
   },
   "file_extension": ".py",
   "mimetype": "text/x-python",
   "name": "python",
   "nbconvert_exporter": "python",
   "pygments_lexer": "ipython2",
   "version": "2.7.10"
  }
 },
 "nbformat": 4,
 "nbformat_minor": 0
}
