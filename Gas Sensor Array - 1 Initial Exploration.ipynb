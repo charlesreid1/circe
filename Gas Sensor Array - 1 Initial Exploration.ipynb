{
 "cells": [
  {
   "cell_type": "markdown",
   "metadata": {},
   "source": [
    "# Gas Sensor Array\n"
   ]
  },
  {
   "cell_type": "code",
   "execution_count": 3,
   "metadata": {
    "collapsed": false
   },
   "outputs": [],
   "source": [
    "%matplotlib inline\n",
    "\n",
    "# numbers\n",
    "import numpy as np\n",
    "import pandas as pd\n",
    "\n",
    "# stats\n",
    "import statsmodels.api as sm\n",
    "import scipy.stats as stats\n",
    "\n",
    "# plots\n",
    "import matplotlib.pyplot as plt\n",
    "import seaborn as sns\n",
    "\n",
    "# utils\n",
    "import os, re, io\n",
    "from pprint import pprint"
   ]
  },
  {
   "cell_type": "markdown",
   "metadata": {},
   "source": [
    "## Overview of the Data\n",
    "\n",
    "Start with an overview of the data: \n",
    "* 5 replicates of 8-sensor arrays (this is a statistical technique known as _blocking_, so the prefix B1-B5 indicates block 1 through block 5)\n",
    "* 8 sensor channels (0-7), first 4 have 5.65 V, last 4 have 5.00 V\n",
    "* 40 different gas conditions: varying concentration levels of ethylene, ethanol, carbon monoxide, methane\n",
    "* Duration was 600 seconds, conductivity of each sensor acquired at 100 Hz\n",
    "\n",
    "## File Conventions\n",
    "\n",
    "The file naming convention is as follows:\n",
    "* Each sensor response is provided in a text file\n",
    "* File name codes the unit number (gas)\n",
    "* Ea = ethanol\n",
    "* CO = carbon monoxide\n",
    "* Ey = ethylene\n",
    "* Me = methane\n",
    "\n",
    "Concentration = 010-100 of the corresponding gas\n",
    "\n",
    "B1_GEa_F040_R2.txt indicates:\n",
    "* B1 (board 1)\n",
    "* Ea (Ethanol\n",
    "* 50 ppm\n",
    "* Repetition 2\n",
    "\n",
    "## File Contents\n",
    "\n",
    "The contents of each file is the elapsed time in seconds, and the resistance of each sensor in KOhms.\n",
    "* Column 1 is time\n",
    "* Following columns are channels 0-7\n"
   ]
  },
  {
   "cell_type": "code",
   "execution_count": 12,
   "metadata": {
    "collapsed": false
   },
   "outputs": [
    {
     "name": "stdout",
     "output_type": "stream",
     "text": [
      "160\n"
     ]
    }
   ],
   "source": [
    "b1_files = [j for j in os.listdir('data/twin_gas_sensors') if 'B1' in j]\n",
    "print len(b1_files)"
   ]
  },
  {
   "cell_type": "code",
   "execution_count": 14,
   "metadata": {
    "collapsed": false
   },
   "outputs": [
    {
     "name": "stdout",
     "output_type": "stream",
     "text": [
      "640\n"
     ]
    }
   ],
   "source": [
    "all_files = [j for j in os.listdir('data/twin_gas_sensors')]\n",
    "print len(all_files)"
   ]
  },
  {
   "cell_type": "code",
   "execution_count": 16,
   "metadata": {
    "collapsed": false
   },
   "outputs": [
    {
     "name": "stdout",
     "output_type": "stream",
     "text": [
      "B1_GCO_F010_R1.txt\n"
     ]
    }
   ],
   "source": [
    "print b1_files[0]"
   ]
  },
  {
   "cell_type": "code",
   "execution_count": 41,
   "metadata": {
    "collapsed": false
   },
   "outputs": [],
   "source": [
    "def sensor_df(fname):\n",
    "    prefix = 'data/twin_gas_sensors/'\n",
    "\n",
    "    sensors = ['Sensor '+str(j) for j in range(8)]\n",
    "    sensor_columns = ['Time'] + sensors\n",
    "\n",
    "    df = pd.read_csv(prefix+fname,delimiter='\\t',header=None,names=sensor_columns)\n",
    "    return df\n",
    "\n",
    "sdf1 = sensor_df(b1_files[0])"
   ]
  },
  {
   "cell_type": "code",
   "execution_count": 43,
   "metadata": {
    "collapsed": false
   },
   "outputs": [
    {
     "name": "stdout",
     "output_type": "stream",
     "text": [
      "   Time  Sensor 0  Sensor 1  Sensor 2  Sensor 3  Sensor 4  Sensor 5  Sensor 6  \\\n",
      "0  0.00     38.91     18.64      21.6      5.56     72.63     45.67     55.54   \n",
      "1  0.01     38.91     18.66      21.6      5.56     72.85     45.67     55.40   \n",
      "2  0.02     38.91     18.66      21.6      5.56     72.85     45.67     55.54   \n",
      "3  0.03     38.99     18.66      21.6      5.56     72.85     45.77     55.40   \n",
      "4  0.04     38.99     18.66      21.6      5.57     72.85     45.87     55.54   \n",
      "\n",
      "   Sensor 7  \n",
      "0      7.00  \n",
      "1      6.99  \n",
      "2      7.00  \n",
      "3      6.99  \n",
      "4      7.00  \n"
     ]
    }
   ],
   "source": [
    "print sdf1.head()"
   ]
  },
  {
   "cell_type": "code",
   "execution_count": 54,
   "metadata": {
    "collapsed": false
   },
   "outputs": [
    {
     "data": {
      "image/png": "[encoded data removed]",
      "text/plain": [
       "<matplotlib.figure.Figure at 0x1095f0ed0>"
      ]
     },
     "metadata": {},
     "output_type": "display_data"
    }
   ],
   "source": [
    "for j in range(8):\n",
    "    seriesname = 'Sensor '+str(j)\n",
    "    plt.plot(sdf1['Time'],sdf1[seriesname], label=seriesname)\n",
    "\n",
    "plt.title(\"Gas Sensor Array: Experiment 1\")\n",
    "plt.xlabel('Elapsed Experimental Time (s)')\n",
    "plt.ylabel('Sensor Resistance (kOhm)')\n",
    "plt.legend(bbox_to_anchor=(1.3, 0.8))\n",
    "plt.show()"
   ]
  },
  {
   "cell_type": "code",
   "execution_count": null,
   "metadata": {
    "collapsed": true
   },
   "outputs": [],
   "source": []
  }
 ],
 "metadata": {
  "kernelspec": {
   "display_name": "Python 2",
   "language": "python",
   "name": "python2"
  },
  "language_info": {
   "codemirror_mode": {
    "name": "ipython",
    "version": 2
   },
   "file_extension": ".py",
   "mimetype": "text/x-python",
   "name": "python",
   "nbconvert_exporter": "python",
   "pygments_lexer": "ipython2",
   "version": "2.7.10"
  }
 },
 "nbformat": 4,
 "nbformat_minor": 0
}
